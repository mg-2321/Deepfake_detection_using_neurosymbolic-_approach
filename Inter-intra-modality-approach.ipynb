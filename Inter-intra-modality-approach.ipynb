{
  "nbformat": 4,
  "nbformat_minor": 0,
  "metadata": {
    "colab": {
      "provenance": [],
      "authorship_tag": "ABX9TyPFse0tX/NQcgX4FZU0aQfD",
      "include_colab_link": true
    },
    "kernelspec": {
      "name": "python3",
      "display_name": "Python 3"
    },
    "language_info": {
      "name": "python"
    }
  },
  "cells": [
    {
      "cell_type": "markdown",
      "metadata": {
        "id": "view-in-github",
        "colab_type": "text"
      },
      "source": [
        "<a href=\"https://colab.research.google.com/github/mg-2321/Deepfake_detection_using_neurosymbolic-_approach/blob/main/Inter-intra-modality-approach.ipynb\" target=\"_parent\"><img src=\"https://colab.research.google.com/assets/colab-badge.svg\" alt=\"Open In Colab\"/></a>"
      ]
    },
    {
      "cell_type": "code",
      "execution_count": 5,
      "metadata": {
        "colab": {
          "base_uri": "https://localhost:8080/"
        },
        "id": "-eIwVAKle40f",
        "outputId": "efc92bb7-6d32-4976-a0e3-d9ea636673f9"
      },
      "outputs": [
        {
          "output_type": "stream",
          "name": "stdout",
          "text": [
            "Enter 5 visual emotions separated by commas: Sad, Happy,Surprise,Fear, Disgust\n",
            "Visual Emotions: ['Visual_Emotion_Sad', 'Visual_Emotion_ Happy', 'Visual_Emotion_Surprise', 'Visual_Emotion_Fear', 'Visual_Emotion_ Disgust']\n"
          ]
        }
      ],
      "source": [
        "# Equation 1: Convert detected visual emotions into symbols over time\n",
        "def convert_visual_emotions_to_symbols(emotions):\n",
        "    return [f\"Visual_Emotion_{emotion}\" for emotion in emotions]\n",
        "\n",
        "# Example usage\n",
        "emotions = input(\"Enter 5 visual emotions separated by commas: \").split(\",\")[:5]\n",
        "VE = convert_visual_emotions_to_symbols(emotions)\n",
        "print(\"Visual Emotions:\", VE)"
      ]
    },
    {
      "cell_type": "code",
      "source": [
        "# Equation 1: Convert detected visual emotions into symbols over time\n",
        "def convert_visual_emotions_to_symbols(emotions):\n",
        "    return [f\"Aural_Emotion_{emotion}\" for emotion in emotions]\n",
        "\n",
        "# Example usage\n",
        "emotions = input(\"Enter 5 visual emotions separated by commas: \").split(\",\")[:5]\n",
        "VE = convert_visual_emotions_to_symbols(emotions)\n",
        "print(\"Aural Emotions:\", VE)"
      ],
      "metadata": {
        "colab": {
          "base_uri": "https://localhost:8080/"
        },
        "id": "d93xH-qee9aT",
        "outputId": "85de8dcc-fe02-40d6-dfb4-ad3de794a07d"
      },
      "execution_count": 7,
      "outputs": [
        {
          "output_type": "stream",
          "name": "stdout",
          "text": [
            "Enter 5 visual emotions separated by commas: Happy, Disgust, Fear, Sad, Surprise\n",
            "Aural Emotions: ['Aural_Emotion_Happy', 'Aural_Emotion_ Disgust', 'Aural_Emotion_ Fear', 'Aural_Emotion_ Sad', 'Aural_Emotion_ Surprise']\n"
          ]
        }
      ]
    },
    {
      "cell_type": "code",
      "source": [
        "!pip install pandas\n",
        "import pandas as pd\n",
        "# Define the data\n",
        "data = {\n",
        "    'Normal': [0.421, 0.362, 0.061, 0.060, 0.027, 0.034, 0.032],\n",
        "    'Happy': [0.213, 0.509, 0.090, 0.055, 0.039, 0.051, 0.042],\n",
        "    'Sad': [0.084, 0.296, 0.320, 0.058, 0.108, 0.064, 0.068],\n",
        "    'Angry': [0.190, 0.264, 0.091, 0.243, 0.086, 0.076, 0.048],\n",
        "    'Disgust': [0.056, 0.262, 0.123, 0.075, 0.293, 0.069, 0.121],\n",
        "    'Fear': [0.050, 0.244, 0.137, 0.101, 0.096, 0.279, 0.092],\n",
        "    'Surprise': [0.047, 0.252, 0.092, 0.056, 0.164, 0.075, 0.313]\n",
        "}\n",
        "\n",
        "# Define the index\n",
        "index = ['Normal', 'Sad', 'Happy', 'Angry', 'Disgust', 'Fear', 'Surprise']\n",
        "\n",
        "# Create the DataFrame\n",
        "df = pd.DataFrame(data, index=index)\n",
        "\n",
        "# Display the DataFrame\n",
        "print(df)\n"
      ],
      "metadata": {
        "colab": {
          "base_uri": "https://localhost:8080/"
        },
        "id": "dQO6ZM_Xhqn8",
        "outputId": "e0e2b023-5829-44e6-90b6-764c1f774ef2"
      },
      "execution_count": 9,
      "outputs": [
        {
          "output_type": "stream",
          "name": "stdout",
          "text": [
            "Requirement already satisfied: pandas in /usr/local/lib/python3.10/dist-packages (1.5.3)\n",
            "Requirement already satisfied: python-dateutil>=2.8.1 in /usr/local/lib/python3.10/dist-packages (from pandas) (2.8.2)\n",
            "Requirement already satisfied: pytz>=2020.1 in /usr/local/lib/python3.10/dist-packages (from pandas) (2023.4)\n",
            "Requirement already satisfied: numpy>=1.21.0 in /usr/local/lib/python3.10/dist-packages (from pandas) (1.25.2)\n",
            "Requirement already satisfied: six>=1.5 in /usr/local/lib/python3.10/dist-packages (from python-dateutil>=2.8.1->pandas) (1.16.0)\n",
            "          Normal  Happy    Sad  Angry  Disgust   Fear  Surprise\n",
            "Normal     0.421  0.213  0.084  0.190    0.056  0.050     0.047\n",
            "Sad        0.362  0.509  0.296  0.264    0.262  0.244     0.252\n",
            "Happy      0.061  0.090  0.320  0.091    0.123  0.137     0.092\n",
            "Angry      0.060  0.055  0.058  0.243    0.075  0.101     0.056\n",
            "Disgust    0.027  0.039  0.108  0.086    0.293  0.096     0.164\n",
            "Fear       0.034  0.051  0.064  0.076    0.069  0.279     0.075\n",
            "Surprise   0.032  0.042  0.068  0.048    0.121  0.092     0.313\n"
          ]
        }
      ]
    },
    {
      "cell_type": "code",
      "source": [
        "# Equation 3: Calculate the mean value of all transition probabilities\n",
        "import numpy as np\n",
        "def calculate_threshold(KB):\n",
        "    return np.mean(KB)\n",
        "\n",
        "# Example knowledge base (KB) as a numpy array\n",
        "KB = np.array([[0.421, 0.213, 0.084, 0.190, 0.056, 0.050, 0.047],\n",
        "               [0.362, 0.509, 0.296, 0.264, 0.262, 0.244, 0.252],\n",
        "               [0.061, 0.090, 0.320, 0.091, 0.123, 0.137, 0.092],\n",
        "               [0.060, 0.055, 0.058, 0.243, 0.075, 0.101, 0.056],\n",
        "               [0.027, 0.039, 0.108, 0.086, 0.293, 0.096, 0.164],\n",
        "               [0.034, 0.051, 0.064, 0.076, 0.069, 0.279, 0.075],\n",
        "               [0.032, 0.042, 0.068, 0.048, 0.121, 0.092, 0.313]])\n",
        "\n",
        "# Calculate threshold\n",
        "t = calculate_threshold(KB)\n",
        "print(\"Threshold:\", t)"
      ],
      "metadata": {
        "colab": {
          "base_uri": "https://localhost:8080/"
        },
        "id": "gB8TvRa6iJH5",
        "outputId": "412b848e-f352-4991-d998-b501db6c836e"
      },
      "execution_count": 10,
      "outputs": [
        {
          "output_type": "stream",
          "name": "stdout",
          "text": [
            "Threshold: 0.1426326530612245\n"
          ]
        }
      ]
    },
    {
      "cell_type": "code",
      "source": [
        "# Equations 4 and 5: Define rules for intra-modality reasoning\n",
        "def intra_modality_reasoning(KB, t):\n",
        "    VT = KB > t\n",
        "    AT = KB > t\n",
        "    return VT, AT\n",
        "\n",
        "# Example usage\n",
        "VT, AT = intra_modality_reasoning(KB, t)\n",
        "print(\"Visual Emotion Transition Statuses:\", VT)\n",
        "print(\"Aural Emotion Transition Statuses:\", AT)"
      ],
      "metadata": {
        "id": "6_cROjy1fGR1"
      },
      "execution_count": null,
      "outputs": []
    },
    {
      "cell_type": "code",
      "source": [
        "# Equation 6: Define rule for inter-modality reasoning\n",
        "def inter_modality_reasoning(fi, si, Qn):\n",
        "    return fi.intersection(si) in Qn\n",
        "\n",
        "# Example usage\n",
        "Q1 = {\"Surprise\", \"Happy\"}\n",
        "Q2 = {\"Anger\", \"Fear\", \"Disgust\"}\n",
        "Q3 = {\"Sad\"}\n",
        "Q4 = {}  # No emotion\n",
        "\n",
        "IMi = inter_modality_reasoning(fi, si, Q1)\n",
        "print(\"Inter-modality Reasoning Result at time i:\", IMi)"
      ],
      "metadata": {
        "colab": {
          "base_uri": "https://localhost:8080/",
          "height": 323
        },
        "id": "QenWsYr5fLS9",
        "outputId": "ce0c08c3-746e-4d3a-d801-edccabfb26d0"
      },
      "execution_count": 11,
      "outputs": [
        {
          "output_type": "error",
          "ename": "AttributeError",
          "evalue": "'function' object has no attribute 'intersection'",
          "traceback": [
            "\u001b[0;31m---------------------------------------------------------------------------\u001b[0m",
            "\u001b[0;31mAttributeError\u001b[0m                            Traceback (most recent call last)",
            "\u001b[0;32m<ipython-input-11-ef1e26d40d62>\u001b[0m in \u001b[0;36m<cell line: 11>\u001b[0;34m()\u001b[0m\n\u001b[1;32m      9\u001b[0m \u001b[0mQ4\u001b[0m \u001b[0;34m=\u001b[0m \u001b[0;34m{\u001b[0m\u001b[0;34m}\u001b[0m  \u001b[0;31m# No emotion\u001b[0m\u001b[0;34m\u001b[0m\u001b[0;34m\u001b[0m\u001b[0m\n\u001b[1;32m     10\u001b[0m \u001b[0;34m\u001b[0m\u001b[0m\n\u001b[0;32m---> 11\u001b[0;31m \u001b[0mIMi\u001b[0m \u001b[0;34m=\u001b[0m \u001b[0minter_modality_reasoning\u001b[0m\u001b[0;34m(\u001b[0m\u001b[0mfi\u001b[0m\u001b[0;34m,\u001b[0m \u001b[0msi\u001b[0m\u001b[0;34m,\u001b[0m \u001b[0mQ1\u001b[0m\u001b[0;34m)\u001b[0m\u001b[0;34m\u001b[0m\u001b[0;34m\u001b[0m\u001b[0m\n\u001b[0m\u001b[1;32m     12\u001b[0m \u001b[0mprint\u001b[0m\u001b[0;34m(\u001b[0m\u001b[0;34m\"Inter-modality Reasoning Result at time i:\"\u001b[0m\u001b[0;34m,\u001b[0m \u001b[0mIMi\u001b[0m\u001b[0;34m)\u001b[0m\u001b[0;34m\u001b[0m\u001b[0;34m\u001b[0m\u001b[0m\n",
            "\u001b[0;32m<ipython-input-11-ef1e26d40d62>\u001b[0m in \u001b[0;36minter_modality_reasoning\u001b[0;34m(fi, si, Qn)\u001b[0m\n\u001b[1;32m      1\u001b[0m \u001b[0;31m# Equation 6: Define rule for inter-modality reasoning\u001b[0m\u001b[0;34m\u001b[0m\u001b[0;34m\u001b[0m\u001b[0m\n\u001b[1;32m      2\u001b[0m \u001b[0;32mdef\u001b[0m \u001b[0minter_modality_reasoning\u001b[0m\u001b[0;34m(\u001b[0m\u001b[0mfi\u001b[0m\u001b[0;34m,\u001b[0m \u001b[0msi\u001b[0m\u001b[0;34m,\u001b[0m \u001b[0mQn\u001b[0m\u001b[0;34m)\u001b[0m\u001b[0;34m:\u001b[0m\u001b[0;34m\u001b[0m\u001b[0;34m\u001b[0m\u001b[0m\n\u001b[0;32m----> 3\u001b[0;31m     \u001b[0;32mreturn\u001b[0m \u001b[0mfi\u001b[0m\u001b[0;34m.\u001b[0m\u001b[0mintersection\u001b[0m\u001b[0;34m(\u001b[0m\u001b[0msi\u001b[0m\u001b[0;34m)\u001b[0m \u001b[0;32min\u001b[0m \u001b[0mQn\u001b[0m\u001b[0;34m\u001b[0m\u001b[0;34m\u001b[0m\u001b[0m\n\u001b[0m\u001b[1;32m      4\u001b[0m \u001b[0;34m\u001b[0m\u001b[0m\n\u001b[1;32m      5\u001b[0m \u001b[0;31m# Example usage\u001b[0m\u001b[0;34m\u001b[0m\u001b[0;34m\u001b[0m\u001b[0m\n",
            "\u001b[0;31mAttributeError\u001b[0m: 'function' object has no attribute 'intersection'"
          ]
        }
      ]
    },
    {
      "cell_type": "code",
      "source": [
        "# Equations 7 and 8: Calculate indices and probabilities\n",
        "def calculate_indices_and_probabilities(VTi, ATi, IMi, N):\n",
        "    Indx = [VTi, ATi, IMi]\n",
        "    Prob = np.sum(Indx) / N\n",
        "    return Indx, Prob\n",
        "\n",
        "# Example usage\n",
        "N = 10  # Total length of video\n",
        "Indx, Prob = calculate_indices_and_probabilities(VTi, ATi, IMi, N)\n",
        "print(\"Indices for Fake Labels:\", Indx)\n",
        "print(\"Probabilities of Fake Labels:\", Prob)"
      ],
      "metadata": {
        "id": "7EjZ5ulufLbQ"
      },
      "execution_count": null,
      "outputs": []
    },
    {
      "cell_type": "code",
      "source": [],
      "metadata": {
        "id": "TxSeLXoSihpQ"
      },
      "execution_count": null,
      "outputs": []
    }
  ]
}